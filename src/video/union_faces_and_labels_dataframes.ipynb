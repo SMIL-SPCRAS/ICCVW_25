{
 "cells": [
  {
   "cell_type": "code",
   "execution_count": 2,
   "id": "7d90ee37-e66c-4922-a51d-35b826bc656c",
   "metadata": {},
   "outputs": [],
   "source": [
    "import pandas as pd\n",
    "from tqdm import tqdm"
   ]
  },
  {
   "cell_type": "code",
   "execution_count": 3,
   "id": "99428b99-546c-4636-ba35-702d4f5d67c8",
   "metadata": {},
   "outputs": [
    {
     "name": "stderr",
     "output_type": "stream",
     "text": [
      "100%|██████████████████████████████████████████████████████████████████████████████| 6450/6450 [07:00<00:00, 15.32it/s]\n"
     ]
    }
   ],
   "source": [
    "corpus = \"AffWild2\"\n",
    "path = f\"E:/Databases/9th_ABAW/{corpus}/Chunk/\"\n",
    "subset = \"dev\"\n",
    "emotion_columns = [\"Neutral\",\"Anger\",\"Disgust\",\"Fear\",\"Happiness\",\"Sadness\",\"Surprise\",\"Other\"]\n",
    "df_seg = pd.read_csv(f\"{path}{subset}_segment.csv\").dropna(subset=emotion_columns, how='all')\n",
    "# df_seg = pd.read_csv(f\"{path}{subset}_segment.csv\")\n",
    "df_faces = pd.read_csv(f\"{path}{subset}_faces.csv\")\n",
    "\n",
    "labels = df_seg[emotion_columns].values\n",
    "combined_df = pd.DataFrame()\n",
    "for idx, video_name in enumerate(tqdm(df_seg.video_name)):\n",
    "    curr_df = df_faces[df_faces.video_name==video_name]\n",
    "    curr_df = curr_df.copy()\n",
    "    if len(curr_df) > 0:\n",
    "        curr_labels = labels[idx]\n",
    "        curr_df[emotion_columns] = curr_labels\n",
    "        combined_df = pd.concat([combined_df, curr_df], ignore_index=True)\n",
    "\n",
    "combined_df.to_csv(f'{path}{subset}_union.csv', index=False)"
   ]
  },
  {
   "cell_type": "code",
   "execution_count": 7,
   "id": "ba4c4cd4-f445-4c19-88ae-4306187b94fa",
   "metadata": {},
   "outputs": [
    {
     "name": "stderr",
     "output_type": "stream",
     "text": [
      "100%|████████████████████████████████████████████████████████████████████████████| 15158/15158 [35:09<00:00,  7.19it/s]\n"
     ]
    }
   ],
   "source": [
    "corpus = \"AffWild2\"\n",
    "path = f\"E:/Databases/9th_ABAW/{corpus}/Chunk/\"\n",
    "subset = \"train\"\n",
    "emotion_columns = [\"Neutral\",\"Anger\",\"Disgust\",\"Fear\",\"Happiness\",\"Sadness\",\"Surprise\",\"Other\"]\n",
    "df_seg = pd.read_csv(f\"{path}{subset}_segment.csv\").dropna(subset=emotion_columns, how='all')\n",
    "# df_seg = pd.read_csv(f\"{path}{subset}_segment.csv\")\n",
    "df_faces = pd.read_csv(f\"{path}{subset}_faces.csv\")\n",
    "\n",
    "labels = df_seg[emotion_columns].values\n",
    "combined_df = pd.DataFrame()\n",
    "for idx, video_name in enumerate(tqdm(df_seg.video_name)):\n",
    "    curr_df = df_faces[df_faces.video_name==video_name]\n",
    "    curr_df = curr_df.copy()\n",
    "    if len(curr_df) > 0:\n",
    "        curr_labels = labels[idx]\n",
    "        curr_df[emotion_columns] = curr_labels\n",
    "        combined_df = pd.concat([combined_df, curr_df], ignore_index=True)\n",
    "\n",
    "combined_df.to_csv(f'{path}{subset}_union.csv', index=False)"
   ]
  },
  {
   "cell_type": "code",
   "execution_count": 5,
   "id": "009f991c-e2fb-465b-a4c3-01d4b796c91b",
   "metadata": {},
   "outputs": [
    {
     "name": "stderr",
     "output_type": "stream",
     "text": [
      "100%|███████████████████████████████████████████████████████████████████████████████| 411/411 [00:01<00:00, 323.48it/s]\n"
     ]
    }
   ],
   "source": [
    "corpus = \"AFEW\"\n",
    "path = f\"E:/Databases/9th_ABAW/{corpus}/Chunk/\"\n",
    "subset = \"dev\"\n",
    "emotion_columns = [\"Neutral\",\"Anger\",\"Disgust\",\"Fear\",\"Happiness\",\"Sadness\",\"Surprise\",\"Other\"]\n",
    "df_seg = pd.read_csv(f\"{path}{subset}_segment.csv\").dropna(subset=emotion_columns, how='all')\n",
    "# df_seg = pd.read_csv(f\"{path}{subset}_segment.csv\")\n",
    "df_faces = pd.read_csv(f\"{path}{subset}_faces.csv\")\n",
    "\n",
    "labels = df_seg[emotion_columns].values\n",
    "combined_df = pd.DataFrame()\n",
    "for idx, video_name in enumerate(tqdm(df_seg.video_name)):\n",
    "    curr_df = df_faces[df_faces.video_name==video_name]\n",
    "    curr_df = curr_df.copy()\n",
    "    if len(curr_df) > 0:\n",
    "        curr_labels = labels[idx]\n",
    "        curr_df[emotion_columns] = curr_labels\n",
    "        combined_df = pd.concat([combined_df, curr_df], ignore_index=True)\n",
    "\n",
    "combined_df.to_csv(f'{path}{subset}_union.csv', index=False)"
   ]
  },
  {
   "cell_type": "code",
   "execution_count": 6,
   "id": "e1fc1599-3e22-432d-9cfa-9955a361b023",
   "metadata": {},
   "outputs": [
    {
     "name": "stderr",
     "output_type": "stream",
     "text": [
      "100%|███████████████████████████████████████████████████████████████████████████████| 855/855 [00:05<00:00, 167.22it/s]\n"
     ]
    }
   ],
   "source": [
    "corpus = \"AFEW\"\n",
    "path = f\"E:/Databases/9th_ABAW/{corpus}/Chunk/\"\n",
    "subset = \"train\"\n",
    "emotion_columns = [\"Neutral\",\"Anger\",\"Disgust\",\"Fear\",\"Happiness\",\"Sadness\",\"Surprise\",\"Other\"]\n",
    "df_seg = pd.read_csv(f\"{path}{subset}_segment.csv\").dropna(subset=emotion_columns, how='all')\n",
    "# df_seg = pd.read_csv(f\"{path}{subset}_segment.csv\")\n",
    "df_faces = pd.read_csv(f\"{path}{subset}_faces.csv\")\n",
    "\n",
    "labels = df_seg[emotion_columns].values\n",
    "combined_df = pd.DataFrame()\n",
    "for idx, video_name in enumerate(tqdm(df_seg.video_name)):\n",
    "    curr_df = df_faces[df_faces.video_name==video_name]\n",
    "    curr_df = curr_df.copy()\n",
    "    if len(curr_df) > 0:\n",
    "        curr_labels = labels[idx]\n",
    "        curr_df[emotion_columns] = curr_labels\n",
    "        combined_df = pd.concat([combined_df, curr_df], ignore_index=True)\n",
    "\n",
    "combined_df.to_csv(f'{path}{subset}_union.csv', index=False)"
   ]
  },
  {
   "cell_type": "code",
   "execution_count": 3,
   "id": "be760c75-5fec-42ac-9f32-557400424f7b",
   "metadata": {},
   "outputs": [
    {
     "name": "stderr",
     "output_type": "stream",
     "text": [
      "100%|███████████████████████████████████████████████████████████████████████████████| 449/449 [00:02<00:00, 155.39it/s]\n"
     ]
    }
   ],
   "source": [
    "corpus = \"C-EXPR-DB\"\n",
    "path = f\"E:/Databases/9th_ABAW/{corpus}/Chunk/\"\n",
    "subset = \"test\"\n",
    "emotion_columns = [\"Neutral\",\"Anger\",\"Disgust\",\"Fear\",\"Happiness\",\"Sadness\",\"Surprise\",\"Other\"]\n",
    "df_seg = pd.read_csv(f\"{path}{subset}_segment.csv\")\n",
    "df_faces = pd.read_csv(f\"{path}{subset}_faces.csv\")\n",
    "\n",
    "labels = df_seg[emotion_columns].values\n",
    "combined_df = pd.DataFrame()\n",
    "for idx, video_name in enumerate(tqdm(df_seg.video_name)):\n",
    "    curr_df = df_faces[df_faces.video_name==video_name]\n",
    "    curr_df = curr_df.copy()\n",
    "    if len(curr_df) > 0:\n",
    "        # curr_labels = labels[idx]\n",
    "        curr_df[emotion_columns] = [0, 0, 0, 0, 0, 0, 0, 0]\n",
    "        combined_df = pd.concat([combined_df, curr_df], ignore_index=True)\n",
    "\n",
    "combined_df.to_csv(f'{path}{subset}_union.csv', index=False)"
   ]
  },
  {
   "cell_type": "code",
   "execution_count": null,
   "id": "1ab016ad-4253-428c-a32b-5d4101609bda",
   "metadata": {},
   "outputs": [],
   "source": []
  }
 ],
 "metadata": {
  "kernelspec": {
   "display_name": "Python 3 (ipykernel)",
   "language": "python",
   "name": "python3"
  },
  "language_info": {
   "codemirror_mode": {
    "name": "ipython",
    "version": 3
   },
   "file_extension": ".py",
   "mimetype": "text/x-python",
   "name": "python",
   "nbconvert_exporter": "python",
   "pygments_lexer": "ipython3",
   "version": "3.10.11"
  }
 },
 "nbformat": 4,
 "nbformat_minor": 5
}
